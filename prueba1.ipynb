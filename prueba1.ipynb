import requests, time, csv
from selenium.common.exceptions import TimeoutException
from selenium.webdriver.support.ui import WebDriverWait
from selenium.webdriver.support import expected_conditions as EC
from selenium.webdriver.common.by import By
from selenium import webdriver
options = webdriver.ChromeOptions()
options.add_argument('--disable-extensions')

driver_path = 'C:\\Users\\imase\\UOC Scraping\\chromedriver.exe'

driver = webdriver.Chrome(driver_path, options=options)

# Edit de prueba
hsadoihdñoFIH
