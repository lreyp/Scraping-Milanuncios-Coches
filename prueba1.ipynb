import requests, time, csv
from selenium.common.exceptions import TimeoutException
from selenium.webdriver.support.ui import WebDriverWait
from selenium.webdriver.support import expected_conditions as EC
from selenium.webdriver.common.by import By
from selenium import webdriver
options = webdriver.ChromeOptions()
options.add_argument('--disable-extensions')

# Seleccionar path
driver_path = 'C:\\Users\\imase\\UOC Scraping\\chromedriver.exe'
driver_path = '/home/datasci/Scraping_Milanuncios/chromedriver.exe'

browser = webdriver.Chrome(driver_path, options=options)

last_page = 5
save_page = []
save_data = []
url_base = ''

for i in range(1,last_page):
    url_base = 'https://www.milanuncios.com/coches-de-segunda-mano/?pagina='+str(i)
    print('Estamos en la pagina:'+url_base)
    browser_url = browser.get(url_base)

# Edit de prueba
hsadoihdñoFIH
